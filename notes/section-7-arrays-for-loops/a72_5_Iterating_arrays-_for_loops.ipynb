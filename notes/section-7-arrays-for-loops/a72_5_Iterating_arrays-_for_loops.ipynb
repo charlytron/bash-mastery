{
 "cells": [
  {
   "cell_type": "markdown",
   "metadata": {},
   "source": [
    "# Iterating over arrays with for loops\n",
    "\n",
    "- How to write a `for` to iterate over a list of elemets\n",
    "that we write manually\n",
    "- How to iterate over an array with a `for` loop\n",
    "- Use for loops with logic to perform different actions for each element of an array.\n",
    "\n",
    "A for loop iterates over a list of words or elements and performs an action for each element in the list."
   ]
  },
  {
   "cell_type": "code",
   "execution_count": 3,
   "metadata": {},
   "outputs": [
    {
     "name": "stdout",
     "output_type": "stream",
     "text": [
      "this is first\n",
      "this is second\n",
      "this is third\n"
     ]
    }
   ],
   "source": [
    "%%bash\n",
    "for element in first second third; do\n",
    "  echo \"this is $element\"\n",
    "done"
   ]
  },
  {
   "cell_type": "markdown",
   "metadata": {},
   "source": [
    "So this is echoed out for each element in the list. The for loop uses the list of elements that we provide and iterates over each element in the list until there's nothing left in the list. At that point the for loop is finished.\n",
    "\n",
    "We'll now apply this to an array. We'll create an array of numbers and then we'll iterate over the array and print out each element in the array.\n",
    "\n",
    "we'll use the `readarray` command with the `-t-` option to remove any newline characters from the input that we provide.\n",
    "\n",
    "This will create a stash of text files based on those read within each line of the files.txt file that has nested text files, created outside this exercise."
   ]
  },
  {
   "cell_type": "code",
   "execution_count": 6,
   "metadata": {
    "vscode": {
     "languageId": "shellscript"
    }
   },
   "outputs": [],
   "source": [
    "%%bash\n",
    "\n",
    "readarray -t files < files.txt\n",
    "\n",
    "for file in \"${files[@]}\"; do\n",
    "  touch \"$file\"\n",
    "done\n",
    "\n",
    "# This doesn't output the result in Jupyter, but it works in the terminal"
   ]
  },
  {
   "cell_type": "markdown",
   "metadata": {},
   "source": [
    "## How do combine for loops with logic?\n",
    "\n",
    "Maybe we need to loop through an array and see if some files exist before we try to create them. We can add an if statement to see if the file already exists:"
   ]
  },
  {
   "cell_type": "code",
   "execution_count": 11,
   "metadata": {
    "vscode": {
     "languageId": "shellscript"
    }
   },
   "outputs": [
    {
     "name": "stdout",
     "output_type": "stream",
     "text": [
      "report1 was created successfully\n",
      "report2 was created successfully\n",
      "report3 was created successfully\n"
     ]
    }
   ],
   "source": [
    "%%bash\n",
    "\n",
    "readarray -t files < files.txt\n",
    "\n",
    "for file in \"${files[@]}\"; do\n",
    "  if [ -f \"$file\" ]; then\n",
    "    echo \"$file already exists\"\n",
    "  else\n",
    "    touch \"$file\"\n",
    "    echo \"$file was created successfully\"\n",
    "  fi\n",
    "done\n"
   ]
  },
  {
   "cell_type": "markdown",
   "metadata": {},
   "source": [
    "Well done. It works, and this is the first instance of my using the shell script kernel in a code cell for Jupyter in VS Code. However, I did notice that I can't deploy the conventional shebang string at the top of my script, opting instead for `%%bash`, which seems to work."
   ]
  },
  {
   "cell_type": "code",
   "execution_count": 9,
   "metadata": {
    "vscode": {
     "languageId": "shellscript"
    }
   },
   "outputs": [
    {
     "ename": "SyntaxError",
     "evalue": "invalid syntax (2453104714.py, line 3)",
     "output_type": "error",
     "traceback": [
      "\u001b[0;36m  Cell \u001b[0;32mIn [9], line 3\u001b[0;36m\u001b[0m\n\u001b[0;31m    readarray -t files < files.txt\u001b[0m\n\u001b[0m                 ^\u001b[0m\n\u001b[0;31mSyntaxError\u001b[0m\u001b[0;31m:\u001b[0m invalid syntax\n"
     ]
    }
   ],
   "source": [
    "#!/bin/bash\n",
    "\n",
    "readarray -t files < files.txt\n",
    "\n",
    "for file in \"${files[@]}\"; do\n",
    "  if [ -f \"$file\" ]; then\n",
    "    echo \"$file already exists\"\n",
    "  else\n",
    "    touch \"$file\"\n",
    "    echo \"$file was created successfully\"\n",
    "  fi\n",
    "done\n"
   ]
  },
  {
   "cell_type": "markdown",
   "metadata": {},
   "source": [
    "The error is a bit confusing, but I'll put a pin in it for now. We'll go back to the command line and run `rm *.txt`to get rid of that stack of files.\n",
    "\n",
    "If we repeat our `file_creator` script, we'll see that the files we read from the lines in files.txt were already created outside that file."
   ]
  },
  {
   "cell_type": "code",
   "execution_count": 12,
   "metadata": {
    "vscode": {
     "languageId": "shellscript"
    }
   },
   "outputs": [
    {
     "name": "stdout",
     "output_type": "stream",
     "text": [
      "report1 already exists\n",
      "report2 already exists\n",
      "report3 already exists\n"
     ]
    }
   ],
   "source": [
    "%%bash\n",
    "\n",
    "readarray -t files < files.txt\n",
    "\n",
    "for file in \"${files[@]}\"; do\n",
    "  if [ -f \"$file\" ]; then\n",
    "    echo \"$file already exists\"\n",
    "  else\n",
    "    touch \"$file\"\n",
    "    echo \"$file was created successfully\"\n",
    "  fi\n",
    "done\n"
   ]
  },
  {
   "cell_type": "markdown",
   "metadata": {},
   "source": []
  }
 ],
 "metadata": {
  "kernelspec": {
   "display_name": "Python 3 (ipykernel)",
   "language": "python",
   "name": "python3"
  },
  "language_info": {
   "codemirror_mode": {
    "name": "ipython",
    "version": 3
   },
   "file_extension": ".py",
   "mimetype": "text/x-python",
   "name": "python",
   "nbconvert_exporter": "python",
   "pygments_lexer": "ipython3",
   "version": "3.10.4"
  },
  "vscode": {
   "interpreter": {
    "hash": "916dbcbb3f70747c44a77c7bcd40155683ae19c65e1c03b4aa3499c5328201f1"
   }
  }
 },
 "nbformat": 4,
 "nbformat_minor": 2
}
