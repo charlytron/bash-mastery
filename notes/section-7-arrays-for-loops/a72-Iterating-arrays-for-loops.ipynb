{
 "cells": [
  {
   "cell_type": "markdown",
   "metadata": {},
   "source": [
    "# Iterating over arrays with for loops\n",
    "\n",
    "- How to write a `for` to iterate over a list of elemets\n",
    "that we write manually\n",
    "- How to iterate over an array with a `for` loop\n",
    "- Use for loops with logic to perform different actions for each element of an array.\n",
    "\n",
    "A for loop iterates over a list of words or elements and performs an action for each element in the list."
   ]
  },
  {
   "cell_type": "code",
   "execution_count": 3,
   "metadata": {},
   "outputs": [
    {
     "name": "stdout",
     "output_type": "stream",
     "text": [
      "this is first\n",
      "this is second\n",
      "this is third\n"
     ]
    }
   ],
   "source": [
    "%%bash\n",
    "for element in first second third; do\n",
    "  echo \"this is $element\"\n",
    "done"
   ]
  },
  {
   "cell_type": "markdown",
   "metadata": {},
   "source": [
    "So this is echoed out for each element in the list. The for loop uses the list of elements that we provide and iterates over each element in the list until there's nothing left in the list. At that pint the for loop is finished.\n",
    "\n",
    "We'll now apply this to an array. We'll create an array of numbers and then we'll iterate over the array and print out each element in the array.\n",
    "\n",
    "we'll use the `readarray` command with the `-t-` option to remove any newline characters from the input that we provide.\n",
    "\n",
    "This will create a bash of text files based on those read within each line of the files.txt file that has nested text files, created outside this exercise."
   ]
  },
  {
   "cell_type": "code",
   "execution_count": 6,
   "metadata": {},
   "outputs": [],
   "source": [
    "%%bash\n",
    "\n",
    "readarray -t files < files.txt\n",
    "\n",
    "for file in \"${files[@]}\"; do\n",
    "  touch \"$file\"\n",
    "done\n",
    "\n",
    "# This doesn't output the result in Jupyter, but it works in the terminal"
   ]
  },
  {
   "cell_type": "markdown",
   "metadata": {},
   "source": [
    "## How do combine for loops with logic?\n",
    "\n",
    "Maybe we need to loop through an array and see if some files exist before we try to create them."
   ]
  }
 ],
 "metadata": {
  "kernelspec": {
   "display_name": "Python 3.10.4 64-bit",
   "language": "python",
   "name": "python3"
  },
  "language_info": {
   "codemirror_mode": {
    "name": "ipython",
    "version": 3
   },
   "file_extension": ".py",
   "mimetype": "text/x-python",
   "name": "python",
   "nbconvert_exporter": "python",
   "pygments_lexer": "ipython3",
   "version": "3.10.4"
  },
  "orig_nbformat": 4,
  "vscode": {
   "interpreter": {
    "hash": "916dbcbb3f70747c44a77c7bcd40155683ae19c65e1c03b4aa3499c5328201f1"
   }
  }
 },
 "nbformat": 4,
 "nbformat_minor": 2
}
